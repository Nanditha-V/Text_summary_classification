{
 "cells": [
  {
   "cell_type": "code",
   "execution_count": 1,
   "id": "a6c8c734",
   "metadata": {
    "scrolled": false
   },
   "outputs": [],
   "source": [
    "#pip install transformers==2.2.0\n",
    "#pip install bert-extractive-summarizer"
   ]
  },
  {
   "cell_type": "code",
   "execution_count": 2,
   "id": "bb982abe",
   "metadata": {},
   "outputs": [],
   "source": [
    "import warnings\n",
    "warnings.filterwarnings('ignore')"
   ]
  },
  {
   "cell_type": "code",
   "execution_count": 3,
   "id": "ecc80eab",
   "metadata": {},
   "outputs": [],
   "source": [
    "import numpy as np\n",
    "import pandas as pd\n",
    "from transformers import BartTokenizer, BartForConditionalGeneration"
   ]
  },
  {
   "cell_type": "code",
   "execution_count": 5,
   "id": "52df05f5",
   "metadata": {},
   "outputs": [],
   "source": [
    "def bert_text_summarizer(text):\n",
    "    # Load pre-trained BART model and tokenizer\n",
    "    model_name = 'facebook/bart-large-cnn'\n",
    "    tokenizer = BartTokenizer.from_pretrained(model_name)\n",
    "    model = BartForConditionalGeneration.from_pretrained(model_name)\n",
    "    \n",
    "    # Tokenize the text\n",
    "    inputs = tokenizer.encode_plus(text, truncation=True, padding='longest', return_tensors='pt')\n",
    "    \n",
    "    # Generate the summary using BART\n",
    "    summary_ids = model.generate(inputs['input_ids'], num_beams=4, length_penalty=2.0, max_length=142, min_length=56, early_stopping=True)\n",
    "    summary = tokenizer.decode(summary_ids[0], skip_special_tokens=True)\n",
    "    \n",
    "    return summary"
   ]
  },
  {
   "cell_type": "code",
   "execution_count": 6,
   "id": "83433a58",
   "metadata": {},
   "outputs": [],
   "source": [
    "df_1 = pd.read_csv(\"articles1.csv\")"
   ]
  },
  {
   "cell_type": "code",
   "execution_count": 7,
   "id": "2fe4bcf9",
   "metadata": {},
   "outputs": [],
   "source": [
    "df = df_1.iloc[:10]"
   ]
  },
  {
   "cell_type": "code",
   "execution_count": 8,
   "id": "7e1b5275",
   "metadata": {},
   "outputs": [
    {
     "data": {
      "text/plain": [
       "(10, 10)"
      ]
     },
     "execution_count": 8,
     "metadata": {},
     "output_type": "execute_result"
    }
   ],
   "source": [
    "df.shape"
   ]
  },
  {
   "cell_type": "code",
   "execution_count": 9,
   "id": "61d2a0f6",
   "metadata": {},
   "outputs": [],
   "source": [
    "df['summarized'] = df['content'].apply(bert_text_summarizer)"
   ]
  },
  {
   "cell_type": "code",
   "execution_count": 10,
   "id": "ba675b89",
   "metadata": {},
   "outputs": [],
   "source": [
    "from transformers import pipeline\n",
    "\n",
    "def zero_shot_classification(text, labels):\n",
    "    # Load zero-shot classification pipeline\n",
    "    classifier = pipeline(\"zero-shot-classification\")\n",
    "    \n",
    "    # Perform zero-shot classification\n",
    "    result = classifier(text, labels)\n",
    "    \n",
    "    # Return the classification result\n",
    "    return result"
   ]
  },
  {
   "cell_type": "code",
   "execution_count": 11,
   "id": "83924e91",
   "metadata": {},
   "outputs": [],
   "source": [
    "#List out the labels as required to the context\n",
    "labels = [\"war\", \"country\", \"rule\"]"
   ]
  },
  {
   "cell_type": "code",
   "execution_count": 12,
   "id": "8d4a22d2",
   "metadata": {},
   "outputs": [
    {
     "name": "stderr",
     "output_type": "stream",
     "text": [
      "No model was supplied, defaulted to facebook/bart-large-mnli and revision c626438 (https://huggingface.co/facebook/bart-large-mnli).\n",
      "Using a pipeline without specifying a model name and revision in production is not recommended.\n",
      "No model was supplied, defaulted to facebook/bart-large-mnli and revision c626438 (https://huggingface.co/facebook/bart-large-mnli).\n",
      "Using a pipeline without specifying a model name and revision in production is not recommended.\n",
      "No model was supplied, defaulted to facebook/bart-large-mnli and revision c626438 (https://huggingface.co/facebook/bart-large-mnli).\n",
      "Using a pipeline without specifying a model name and revision in production is not recommended.\n",
      "No model was supplied, defaulted to facebook/bart-large-mnli and revision c626438 (https://huggingface.co/facebook/bart-large-mnli).\n",
      "Using a pipeline without specifying a model name and revision in production is not recommended.\n",
      "No model was supplied, defaulted to facebook/bart-large-mnli and revision c626438 (https://huggingface.co/facebook/bart-large-mnli).\n",
      "Using a pipeline without specifying a model name and revision in production is not recommended.\n",
      "No model was supplied, defaulted to facebook/bart-large-mnli and revision c626438 (https://huggingface.co/facebook/bart-large-mnli).\n",
      "Using a pipeline without specifying a model name and revision in production is not recommended.\n",
      "No model was supplied, defaulted to facebook/bart-large-mnli and revision c626438 (https://huggingface.co/facebook/bart-large-mnli).\n",
      "Using a pipeline without specifying a model name and revision in production is not recommended.\n",
      "No model was supplied, defaulted to facebook/bart-large-mnli and revision c626438 (https://huggingface.co/facebook/bart-large-mnli).\n",
      "Using a pipeline without specifying a model name and revision in production is not recommended.\n",
      "No model was supplied, defaulted to facebook/bart-large-mnli and revision c626438 (https://huggingface.co/facebook/bart-large-mnli).\n",
      "Using a pipeline without specifying a model name and revision in production is not recommended.\n",
      "No model was supplied, defaulted to facebook/bart-large-mnli and revision c626438 (https://huggingface.co/facebook/bart-large-mnli).\n",
      "Using a pipeline without specifying a model name and revision in production is not recommended.\n"
     ]
    }
   ],
   "source": [
    "df['classification'] = df['summarized'].apply(lambda x: zero_shot_classification(x, labels))"
   ]
  },
  {
   "cell_type": "code",
   "execution_count": 13,
   "id": "1a705e0c",
   "metadata": {},
   "outputs": [
    {
     "data": {
      "text/plain": [
       "dict"
      ]
     },
     "execution_count": 13,
     "metadata": {},
     "output_type": "execute_result"
    }
   ],
   "source": [
    "type(df['classification'][0])"
   ]
  },
  {
   "cell_type": "code",
   "execution_count": 14,
   "id": "3dd7cdfe",
   "metadata": {},
   "outputs": [],
   "source": [
    "df['label'] = df['classification'].apply(lambda x: x['labels'][0])\n",
    "df['score'] = df['classification'].apply(lambda x: x['scores'][0])"
   ]
  },
  {
   "cell_type": "code",
   "execution_count": 15,
   "id": "b74e8e1f",
   "metadata": {},
   "outputs": [],
   "source": [
    "results = df[['content','summarized','label']]"
   ]
  },
  {
   "cell_type": "code",
   "execution_count": 16,
   "id": "66a5f94f",
   "metadata": {},
   "outputs": [
    {
     "data": {
      "text/html": [
       "<div>\n",
       "<style scoped>\n",
       "    .dataframe tbody tr th:only-of-type {\n",
       "        vertical-align: middle;\n",
       "    }\n",
       "\n",
       "    .dataframe tbody tr th {\n",
       "        vertical-align: top;\n",
       "    }\n",
       "\n",
       "    .dataframe thead th {\n",
       "        text-align: right;\n",
       "    }\n",
       "</style>\n",
       "<table border=\"1\" class=\"dataframe\">\n",
       "  <thead>\n",
       "    <tr style=\"text-align: right;\">\n",
       "      <th></th>\n",
       "      <th>content</th>\n",
       "      <th>summarized</th>\n",
       "      <th>label</th>\n",
       "    </tr>\n",
       "  </thead>\n",
       "  <tbody>\n",
       "    <tr>\n",
       "      <th>0</th>\n",
       "      <td>WASHINGTON  —   Congressional Republicans have...</td>\n",
       "      <td>House Republicans have a new fear when it come...</td>\n",
       "      <td>rule</td>\n",
       "    </tr>\n",
       "    <tr>\n",
       "      <th>1</th>\n",
       "      <td>After the bullet shells get counted, the blood...</td>\n",
       "      <td>Four of every five shootings in the 40th Preci...</td>\n",
       "      <td>rule</td>\n",
       "    </tr>\n",
       "    <tr>\n",
       "      <th>2</th>\n",
       "      <td>When Walt Disney’s “Bambi” opened in 1942, cri...</td>\n",
       "      <td>Tyrus Wong, a Chinese immigrant, was one of th...</td>\n",
       "      <td>rule</td>\n",
       "    </tr>\n",
       "    <tr>\n",
       "      <th>3</th>\n",
       "      <td>Death may be the great equalizer, but it isn’t...</td>\n",
       "      <td>The pop music world had, hands down, the bleak...</td>\n",
       "      <td>rule</td>\n",
       "    </tr>\n",
       "    <tr>\n",
       "      <th>4</th>\n",
       "      <td>SEOUL, South Korea  —   North Korea’s leader, ...</td>\n",
       "      <td>North Korea has conducted five nuclear tests i...</td>\n",
       "      <td>country</td>\n",
       "    </tr>\n",
       "    <tr>\n",
       "      <th>5</th>\n",
       "      <td>LONDON  —   Queen Elizabeth II, who has been b...</td>\n",
       "      <td>Queen Elizabeth II has been battling a cold fo...</td>\n",
       "      <td>country</td>\n",
       "    </tr>\n",
       "    <tr>\n",
       "      <th>6</th>\n",
       "      <td>BEIJING  —   President Tsai   of Taiwan sharpl...</td>\n",
       "      <td>Taiwan's President Tsai says China is threaten...</td>\n",
       "      <td>country</td>\n",
       "    </tr>\n",
       "    <tr>\n",
       "      <th>7</th>\n",
       "      <td>Danny Cahill stood, slightly dazed, in a blizz...</td>\n",
       "      <td>Study of \"The Biggest Loser\" contestants yield...</td>\n",
       "      <td>rule</td>\n",
       "    </tr>\n",
       "    <tr>\n",
       "      <th>8</th>\n",
       "      <td>Just how   is Hillary Kerr, the    founder of ...</td>\n",
       "      <td>Hillary Kerr and Jonathan Leahy met at the 410...</td>\n",
       "      <td>rule</td>\n",
       "    </tr>\n",
       "    <tr>\n",
       "      <th>9</th>\n",
       "      <td>Angels are everywhere in the Muñiz family’s ap...</td>\n",
       "      <td>José and Zoraida Muñiz and their children have...</td>\n",
       "      <td>rule</td>\n",
       "    </tr>\n",
       "  </tbody>\n",
       "</table>\n",
       "</div>"
      ],
      "text/plain": [
       "                                             content  \\\n",
       "0  WASHINGTON  —   Congressional Republicans have...   \n",
       "1  After the bullet shells get counted, the blood...   \n",
       "2  When Walt Disney’s “Bambi” opened in 1942, cri...   \n",
       "3  Death may be the great equalizer, but it isn’t...   \n",
       "4  SEOUL, South Korea  —   North Korea’s leader, ...   \n",
       "5  LONDON  —   Queen Elizabeth II, who has been b...   \n",
       "6  BEIJING  —   President Tsai   of Taiwan sharpl...   \n",
       "7  Danny Cahill stood, slightly dazed, in a blizz...   \n",
       "8  Just how   is Hillary Kerr, the    founder of ...   \n",
       "9  Angels are everywhere in the Muñiz family’s ap...   \n",
       "\n",
       "                                          summarized    label  \n",
       "0  House Republicans have a new fear when it come...     rule  \n",
       "1  Four of every five shootings in the 40th Preci...     rule  \n",
       "2  Tyrus Wong, a Chinese immigrant, was one of th...     rule  \n",
       "3  The pop music world had, hands down, the bleak...     rule  \n",
       "4  North Korea has conducted five nuclear tests i...  country  \n",
       "5  Queen Elizabeth II has been battling a cold fo...  country  \n",
       "6  Taiwan's President Tsai says China is threaten...  country  \n",
       "7  Study of \"The Biggest Loser\" contestants yield...     rule  \n",
       "8  Hillary Kerr and Jonathan Leahy met at the 410...     rule  \n",
       "9  José and Zoraida Muñiz and their children have...     rule  "
      ]
     },
     "execution_count": 16,
     "metadata": {},
     "output_type": "execute_result"
    }
   ],
   "source": [
    "results"
   ]
  },
  {
   "cell_type": "code",
   "execution_count": 17,
   "id": "3520a371",
   "metadata": {},
   "outputs": [],
   "source": [
    "#for more accurate classes setting a threshold to 0.75\n",
    "threshold = 0.75\n",
    "df['Filtered_Labels'] = df['classification'].apply(lambda x: [label for label, score in zip(x['labels'], x['scores']) if score >= threshold])"
   ]
  },
  {
   "cell_type": "code",
   "execution_count": 18,
   "id": "14590ae8",
   "metadata": {},
   "outputs": [],
   "source": [
    "results = df[['content','summarized','label','Filtered_Labels']]"
   ]
  },
  {
   "cell_type": "code",
   "execution_count": 19,
   "id": "31a20466",
   "metadata": {},
   "outputs": [
    {
     "data": {
      "text/html": [
       "<div>\n",
       "<style scoped>\n",
       "    .dataframe tbody tr th:only-of-type {\n",
       "        vertical-align: middle;\n",
       "    }\n",
       "\n",
       "    .dataframe tbody tr th {\n",
       "        vertical-align: top;\n",
       "    }\n",
       "\n",
       "    .dataframe thead th {\n",
       "        text-align: right;\n",
       "    }\n",
       "</style>\n",
       "<table border=\"1\" class=\"dataframe\">\n",
       "  <thead>\n",
       "    <tr style=\"text-align: right;\">\n",
       "      <th></th>\n",
       "      <th>content</th>\n",
       "      <th>summarized</th>\n",
       "      <th>label</th>\n",
       "      <th>Filtered_Labels</th>\n",
       "    </tr>\n",
       "  </thead>\n",
       "  <tbody>\n",
       "    <tr>\n",
       "      <th>0</th>\n",
       "      <td>WASHINGTON  —   Congressional Republicans have...</td>\n",
       "      <td>House Republicans have a new fear when it come...</td>\n",
       "      <td>rule</td>\n",
       "      <td>[]</td>\n",
       "    </tr>\n",
       "    <tr>\n",
       "      <th>1</th>\n",
       "      <td>After the bullet shells get counted, the blood...</td>\n",
       "      <td>Four of every five shootings in the 40th Preci...</td>\n",
       "      <td>rule</td>\n",
       "      <td>[]</td>\n",
       "    </tr>\n",
       "    <tr>\n",
       "      <th>2</th>\n",
       "      <td>When Walt Disney’s “Bambi” opened in 1942, cri...</td>\n",
       "      <td>Tyrus Wong, a Chinese immigrant, was one of th...</td>\n",
       "      <td>rule</td>\n",
       "      <td>[]</td>\n",
       "    </tr>\n",
       "    <tr>\n",
       "      <th>3</th>\n",
       "      <td>Death may be the great equalizer, but it isn’t...</td>\n",
       "      <td>The pop music world had, hands down, the bleak...</td>\n",
       "      <td>rule</td>\n",
       "      <td>[rule]</td>\n",
       "    </tr>\n",
       "    <tr>\n",
       "      <th>4</th>\n",
       "      <td>SEOUL, South Korea  —   North Korea’s leader, ...</td>\n",
       "      <td>North Korea has conducted five nuclear tests i...</td>\n",
       "      <td>country</td>\n",
       "      <td>[]</td>\n",
       "    </tr>\n",
       "    <tr>\n",
       "      <th>5</th>\n",
       "      <td>LONDON  —   Queen Elizabeth II, who has been b...</td>\n",
       "      <td>Queen Elizabeth II has been battling a cold fo...</td>\n",
       "      <td>country</td>\n",
       "      <td>[country]</td>\n",
       "    </tr>\n",
       "    <tr>\n",
       "      <th>6</th>\n",
       "      <td>BEIJING  —   President Tsai   of Taiwan sharpl...</td>\n",
       "      <td>Taiwan's President Tsai says China is threaten...</td>\n",
       "      <td>country</td>\n",
       "      <td>[]</td>\n",
       "    </tr>\n",
       "    <tr>\n",
       "      <th>7</th>\n",
       "      <td>Danny Cahill stood, slightly dazed, in a blizz...</td>\n",
       "      <td>Study of \"The Biggest Loser\" contestants yield...</td>\n",
       "      <td>rule</td>\n",
       "      <td>[]</td>\n",
       "    </tr>\n",
       "    <tr>\n",
       "      <th>8</th>\n",
       "      <td>Just how   is Hillary Kerr, the    founder of ...</td>\n",
       "      <td>Hillary Kerr and Jonathan Leahy met at the 410...</td>\n",
       "      <td>rule</td>\n",
       "      <td>[rule]</td>\n",
       "    </tr>\n",
       "    <tr>\n",
       "      <th>9</th>\n",
       "      <td>Angels are everywhere in the Muñiz family’s ap...</td>\n",
       "      <td>José and Zoraida Muñiz and their children have...</td>\n",
       "      <td>rule</td>\n",
       "      <td>[]</td>\n",
       "    </tr>\n",
       "  </tbody>\n",
       "</table>\n",
       "</div>"
      ],
      "text/plain": [
       "                                             content  \\\n",
       "0  WASHINGTON  —   Congressional Republicans have...   \n",
       "1  After the bullet shells get counted, the blood...   \n",
       "2  When Walt Disney’s “Bambi” opened in 1942, cri...   \n",
       "3  Death may be the great equalizer, but it isn’t...   \n",
       "4  SEOUL, South Korea  —   North Korea’s leader, ...   \n",
       "5  LONDON  —   Queen Elizabeth II, who has been b...   \n",
       "6  BEIJING  —   President Tsai   of Taiwan sharpl...   \n",
       "7  Danny Cahill stood, slightly dazed, in a blizz...   \n",
       "8  Just how   is Hillary Kerr, the    founder of ...   \n",
       "9  Angels are everywhere in the Muñiz family’s ap...   \n",
       "\n",
       "                                          summarized    label Filtered_Labels  \n",
       "0  House Republicans have a new fear when it come...     rule              []  \n",
       "1  Four of every five shootings in the 40th Preci...     rule              []  \n",
       "2  Tyrus Wong, a Chinese immigrant, was one of th...     rule              []  \n",
       "3  The pop music world had, hands down, the bleak...     rule          [rule]  \n",
       "4  North Korea has conducted five nuclear tests i...  country              []  \n",
       "5  Queen Elizabeth II has been battling a cold fo...  country       [country]  \n",
       "6  Taiwan's President Tsai says China is threaten...  country              []  \n",
       "7  Study of \"The Biggest Loser\" contestants yield...     rule              []  \n",
       "8  Hillary Kerr and Jonathan Leahy met at the 410...     rule          [rule]  \n",
       "9  José and Zoraida Muñiz and their children have...     rule              []  "
      ]
     },
     "execution_count": 19,
     "metadata": {},
     "output_type": "execute_result"
    }
   ],
   "source": [
    "results"
   ]
  },
  {
   "cell_type": "code",
   "execution_count": null,
   "id": "bef4b645",
   "metadata": {},
   "outputs": [],
   "source": []
  }
 ],
 "metadata": {
  "kernelspec": {
   "display_name": "Python 3 (ipykernel)",
   "language": "python",
   "name": "python3"
  },
  "language_info": {
   "codemirror_mode": {
    "name": "ipython",
    "version": 3
   },
   "file_extension": ".py",
   "mimetype": "text/x-python",
   "name": "python",
   "nbconvert_exporter": "python",
   "pygments_lexer": "ipython3",
   "version": "3.10.11"
  }
 },
 "nbformat": 4,
 "nbformat_minor": 5
}
